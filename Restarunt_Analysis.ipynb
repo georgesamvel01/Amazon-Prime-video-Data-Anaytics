{
  "nbformat": 4,
  "nbformat_minor": 0,
  "metadata": {
    "colab": {
      "provenance": [],
      "authorship_tag": "ABX9TyNZtGWu73bDdJQio58R4fLs",
      "include_colab_link": true
    },
    "kernelspec": {
      "name": "python3",
      "display_name": "Python 3"
    },
    "language_info": {
      "name": "python"
    }
  },
  "cells": [
    {
      "cell_type": "markdown",
      "metadata": {
        "id": "view-in-github",
        "colab_type": "text"
      },
      "source": [
        "<a href=\"https://colab.research.google.com/github/georgesamvel01/Amazon-Prime-video-Data-Anaytics/blob/main/Restarunt_Analysis.ipynb\" target=\"_parent\"><img src=\"https://colab.research.google.com/assets/colab-badge.svg\" alt=\"Open In Colab\"/></a>"
      ]
    },
    {
      "cell_type": "code",
      "execution_count": null,
      "metadata": {
        "colab": {
          "base_uri": "https://localhost:8080/"
        },
        "id": "Nx7Enpx-lJ64",
        "outputId": "3bd46f45-a4e8-4601-9a43-7f221c4f0e22"
      },
      "outputs": [
        {
          "output_type": "stream",
          "name": "stdout",
          "text": [
            " Top 3 Most Common Cuisines:\n",
            "\n",
            " North Indian: 3960 restaurants serve this — 41.46% of all restaurants\n",
            "\n",
            " Chinese: 2733 restaurants serve this — 28.61% of all restaurants\n",
            "\n",
            " Fast Food: 1987 restaurants serve this — 20.8% of all restaurants\n",
            "\n"
          ]
        }
      ],
      "source": [
        "#TASK1\n",
        "import pandas as pd\n",
        "from collections import Counter\n",
        "\n",
        "\n",
        "file_path = \"Dataset .csv\"\n",
        "df = pd.read_csv(\"Dataset .csv\")\n",
        "\n",
        "\n",
        "cuisine_series = df['Cuisines'].dropna()\n",
        "\n",
        "\n",
        "all_cuisines = []\n",
        "\n",
        "for item in cuisine_series:\n",
        "\n",
        "    cuisines = [c.strip() for c in item.split(',')]\n",
        "    all_cuisines.extend(cuisines)\n",
        "\n",
        "cuisine_counts = Counter(all_cuisines)\n",
        "\n",
        "\n",
        "top_cuisines = cuisine_counts.most_common(3)\n",
        "\n",
        "\n",
        "total_restaurants = len(df)\n",
        "\n",
        "print(\" Top 3 Most Common Cuisines:\\n\")\n",
        "for cuisine, _ in top_cuisines:\n",
        "    count = df['Cuisines'].dropna().apply(lambda x: cuisine in x).sum()\n",
        "\n",
        "\n",
        "    percentage = (count / total_restaurants) * 100\n",
        "\n",
        "    print(f\" {cuisine}: {count} restaurants serve this — {round(percentage, 2)}% of all restaurants\\n\")\n"
      ]
    },
    {
      "cell_type": "code",
      "source": [
        "#TASK 2\n",
        "import pandas as pd\n",
        "\n",
        "file_path = \"Dataset .csv\"\n",
        "try:\n",
        "    df = pd.read_csv(\"Dataset .csv\")\n",
        "    print(\" Dataset loaded successfully!\\n\")\n",
        "except Exception as e:\n",
        "    print(\" Error loading dataset:\", e)\n",
        "    exit()\n",
        "\n",
        "\n",
        "print(\" Basic Info About Dataset:\")\n",
        "print(f\"Total entries: {len(df)}\")\n",
        "print(\"Available columns:\", list(df.columns), \"\\n\")\n",
        "\n",
        "\n",
        "print(\" Checking for missing values in 'City' and 'Aggregate rating':\")\n",
        "missing_city = df['City'].isnull().sum()\n",
        "missing_rating = df['Aggregate rating'].isnull().sum()\n",
        "print(f\"Missing cities: {missing_city}\")\n",
        "print(f\"Missing ratings: {missing_rating}\\n\")\n",
        "\n",
        "df_clean = df.dropna(subset=['City', 'Aggregate rating'])\n",
        "\n",
        "\n",
        "city_counts = df_clean['City'].value_counts()\n",
        "city_with_most_restaurants = city_counts.idxmax()\n",
        "most_restaurants_count = city_counts.max()\n",
        "\n",
        "print(\" City with the Most Restaurants:\")\n",
        "print(f\"City: {city_with_most_restaurants}\")\n",
        "print(f\"Number of Restaurants: {most_restaurants_count}\\n\")\n",
        "\n",
        "\n",
        "avg_rating_per_city = (\n",
        "    df_clean.groupby('City')['Aggregate rating']\n",
        "    .mean()\n",
        "    .sort_values(ascending=False)\n",
        ")\n",
        "\n",
        "\n",
        "avg_rating_per_city_rounded = avg_rating_per_city.round(2)\n",
        "\n",
        "print(\" Top 10 Cities by Average Restaurant Rating:\")\n",
        "print(avg_rating_per_city_rounded.head(10), \"\\n\")\n",
        "\n",
        "\n",
        "city_with_highest_avg_rating = avg_rating_per_city.idxmax()\n",
        "highest_avg_rating = avg_rating_per_city.max()\n",
        "\n",
        "print(\" City with the Highest Average Restaurant Rating:\")\n",
        "print(f\"City: {city_with_highest_avg_rating}\")\n",
        "print(f\"Average Rating: {round(highest_avg_rating, 2)}\\n\")\n",
        "\n",
        "\n",
        "print(\" Bottom 5 Cities by Average Rating:\")\n",
        "print(avg_rating_per_city_rounded.tail(5), \"\\n\")\n",
        "\n",
        "output_data = pd.DataFrame({\n",
        "    'City': avg_rating_per_city.index,\n",
        "    'Average Rating': avg_rating_per_city.values,\n",
        "    'Total Restaurants': df_clean['City'].value_counts().loc[avg_rating_per_city.index].values\n",
        "})\n",
        "output_data.to_csv(\"City_Average_Ratings.csv\", index=False)\n",
        "print(\" Results saved to 'City_Average_Ratings.csv'\")\n"
      ],
      "metadata": {
        "colab": {
          "base_uri": "https://localhost:8080/"
        },
        "id": "rSdw0oNMmmHa",
        "outputId": "8f3281dc-8911-4834-8ff9-59005920ba62"
      },
      "execution_count": null,
      "outputs": [
        {
          "output_type": "stream",
          "name": "stdout",
          "text": [
            " Dataset loaded successfully!\n",
            "\n",
            " Basic Info About Dataset:\n",
            "Total entries: 9551\n",
            "Available columns: ['Restaurant ID', 'Restaurant Name', 'Country Code', 'City', 'Address', 'Locality', 'Locality Verbose', 'Longitude', 'Latitude', 'Cuisines', 'Average Cost for two', 'Currency', 'Has Table booking', 'Has Online delivery', 'Is delivering now', 'Switch to order menu', 'Price range', 'Aggregate rating', 'Rating color', 'Rating text', 'Votes'] \n",
            "\n",
            " Checking for missing values in 'City' and 'Aggregate rating':\n",
            "Missing cities: 0\n",
            "Missing ratings: 0\n",
            "\n",
            " City with the Most Restaurants:\n",
            "City: New Delhi\n",
            "Number of Restaurants: 5473\n",
            "\n",
            " Top 10 Cities by Average Restaurant Rating:\n",
            "City\n",
            "Inner City          4.90\n",
            "Quezon City         4.80\n",
            "Makati City         4.65\n",
            "Pasig City          4.63\n",
            "Mandaluyong City    4.62\n",
            "Beechworth          4.60\n",
            "London              4.54\n",
            "Taguig City         4.53\n",
            "Secunderabad        4.50\n",
            "Lincoln             4.50\n",
            "Name: Aggregate rating, dtype: float64 \n",
            "\n",
            " City with the Highest Average Restaurant Rating:\n",
            "City: Inner City\n",
            "Average Rating: 4.9\n",
            "\n",
            " Bottom 5 Cities by Average Rating:\n",
            "City\n",
            "New Delhi    2.44\n",
            "Montville    2.40\n",
            "Mc Millan    2.40\n",
            "Noida        2.04\n",
            "Faridabad    1.87\n",
            "Name: Aggregate rating, dtype: float64 \n",
            "\n",
            " Results saved to 'City_Average_Ratings.csv'\n"
          ]
        }
      ]
    },
    {
      "cell_type": "code",
      "source": [
        "#TASK 3\n",
        "\n",
        "\n",
        "import pandas as pd\n",
        "import matplotlib.pyplot as plt\n",
        "\n",
        "\n",
        "df = pd.read_csv(\"Dataset .csv\")\n",
        "\n",
        "price_counts = df['Price range'].value_counts().sort_index()\n",
        "\n",
        "\n",
        "total_restaurants = len(df)\n",
        "price_percentages = (price_counts / total_restaurants * 100).round(2)\n",
        "\n",
        "plt.figure(figsize=(8, 5))\n",
        "bars = plt.bar(price_counts.index.astype(str), price_counts.values, color='skyblue', edgecolor='black')\n",
        "plt.title('Distribution of Price Ranges Among Restaurants')\n",
        "plt.xlabel('Price Range (1 = Low, 4 = High)')\n",
        "plt.ylabel('Number of Restaurants')\n",
        "\n",
        "\n",
        "for bar, percent in zip(bars, price_percentages):\n",
        "    yval = bar.get_height()\n",
        "    plt.text(bar.get_x() + bar.get_width()/2, yval + 50, f'{percent}%', ha='center', va='bottom')\n",
        "\n",
        "plt.tight_layout()\n",
        "plt.grid(axis='y', linestyle='--', alpha=0.5)\n",
        "plt.show()\n",
        "\n",
        "#\n",
        "print(\"📊 Percentage of Restaurants in Each Price Range:\")\n",
        "for price, percent in price_percentages.items():\n",
        "    print(f\"Price Range {price}: {percent}%\")\n"
      ],
      "metadata": {
        "colab": {
          "base_uri": "https://localhost:8080/",
          "height": 598
        },
        "id": "mqA-E9egn4oK",
        "outputId": "81548039-24de-4478-8abf-0e6fc3153c92"
      },
      "execution_count": null,
      "outputs": [
        {
          "output_type": "display_data",
          "data": {
            "text/plain": [
              "<Figure size 800x500 with 1 Axes>"
            ],
            "image/png": "[encoded data removed]"
          },
          "metadata": {}
        },
        {
          "output_type": "stream",
          "name": "stdout",
          "text": [
            "📊 Percentage of Restaurants in Each Price Range:\n",
            "Price Range 1: 46.53%\n",
            "Price Range 2: 32.59%\n",
            "Price Range 3: 14.74%\n",
            "Price Range 4: 6.14%\n"
          ]
        }
      ]
    },
    {
      "cell_type": "code",
      "source": [
        "\n",
        "#TASK 4\n",
        "\n",
        "\n",
        "import pandas as pd\n",
        "\n",
        "\n",
        "file_path = \"Dataset .csv\"\n",
        "df = pd.read_csv(\"Dataset .csv\")\n",
        "\n",
        "\n",
        "df = df.dropna(subset=['Has Online delivery', 'Aggregate rating'])\n",
        "\n",
        "\n",
        "total_restaurants = len(df)\n",
        "online_delivery_yes = df[df['Has Online delivery'] == 'Yes']\n",
        "online_delivery_no = df[df['Has Online delivery'] == 'No']\n",
        "\n",
        "online_count = len(online_delivery_yes)\n",
        "online_percent = round((online_count / total_restaurants) * 100, 2)\n",
        "\n",
        "print(\" Online Delivery Stats:\")\n",
        "print(f\"Restaurants offering online delivery: {online_count} ({online_percent}%)\")\n",
        "print(f\" Restaurants not offering online delivery: {len(online_delivery_no)} ({round((len(online_delivery_no)/total_restaurants)*100, 2)}%)\\n\")\n",
        "\n",
        "\n",
        "avg_rating_with_delivery = round(online_delivery_yes['Aggregate rating'].mean(), 2)\n",
        "avg_rating_without_delivery = round(online_delivery_no['Aggregate rating'].mean(), 2)\n",
        "\n",
        "print(\" Average Ratings Comparison:\")\n",
        "print(f\" With Online Delivery: {avg_rating_with_delivery}\")\n",
        "print(f\" Without Online Delivery: {avg_rating_without_delivery}\")\n"
      ],
      "metadata": {
        "colab": {
          "base_uri": "https://localhost:8080/"
        },
        "id": "3b8EiDP8yRLB",
        "outputId": "41727344-ed22-49dc-8d79-ba3c1d5f0df5"
      },
      "execution_count": null,
      "outputs": [
        {
          "output_type": "stream",
          "name": "stdout",
          "text": [
            "📦 Online Delivery Stats:\n",
            "Restaurants offering online delivery: 2451 (25.66%)\n",
            " Restaurants not offering online delivery: 7100 (74.34%)\n",
            "\n",
            " Average Ratings Comparison:\n",
            " With Online Delivery: 3.25\n",
            " Without Online Delivery: 2.47\n"
          ]
        }
      ]
    },
    {
      "cell_type": "code",
      "source": [
        "import pandas as pd\n",
        "import matplotlib.pyplot as plt\n",
        "\n",
        "\n",
        "file_path = \"Dataset .csv\"\n",
        "df = pd.read_csv(\"Dataset .csv\")\n",
        "\n",
        "\n",
        "df_clean = df.dropna(subset=['Has Online delivery', 'Aggregate rating'])\n",
        "\n",
        "\n",
        "total_restaurants = len(df_clean)\n",
        "online_delivery_yes = df_clean[df_clean['Has Online delivery'] == 'Yes']\n",
        "online_delivery_no = df_clean[df_clean['Has Online delivery'] == 'No']\n",
        "\n",
        "count_yes = len(online_delivery_yes)\n",
        "count_no = len(online_delivery_no)\n",
        "\n",
        "percent_yes = round((count_yes / total_restaurants) * 100, 2)\n",
        "percent_no = round((count_no / total_restaurants) * 100, 2)\n",
        "\n",
        "\n",
        "avg_rating_yes = round(online_delivery_yes['Aggregate rating'].mean(), 2)\n",
        "avg_rating_no = round(online_delivery_no['Aggregate rating'].mean(), 2)\n",
        "\n",
        "\n",
        "print(\" Online Delivery Statistics:\\n\")\n",
        "print(f\" Restaurants with Online Delivery: {count_yes} ({percent_yes}%)\")\n",
        "print(f\" Restaurants without Online Delivery: {count_no} ({percent_no}%)\\n\")\n",
        "\n",
        "print(\" Average Ratings:\\n\")\n",
        "print(f\" With Online Delivery: {avg_rating_yes}\")\n",
        "print(f\" Without Online Delivery: {avg_rating_no}\")\n",
        "\n",
        "\n",
        "plt.figure(figsize=(8, 5))\n",
        "bars = plt.bar(\n",
        "    ['With Online Delivery', 'Without Online Delivery'],\n",
        "    [avg_rating_yes, avg_rating_no],\n",
        "    color=['green', 'gray'],\n",
        "    edgecolor='black'\n",
        ")\n",
        "plt.title('Average Ratings: With vs Without Online Delivery')\n",
        "plt.ylabel('Average Rating')\n",
        "plt.ylim(0, 5)\n",
        "\n",
        "\n",
        "for bar in bars:\n",
        "    yval = bar.get_height()\n",
        "    plt.text(bar.get_x() + bar.get_width()/2, yval + 0.1, f'{yval}', ha='center', va='bottom')\n",
        "\n",
        "plt.grid(axis='y', linestyle='--', alpha=0.5)\n",
        "plt.tight_layout()\n",
        "plt.show()\n",
        "\n",
        "\n",
        "summary_df = pd.DataFrame({\n",
        "    'Online Delivery': ['Yes', 'No'],\n",
        "    'Count': [count_yes, count_no],\n",
        "    'Percentage': [percent_yes, percent_no],\n",
        "    'Average Rating': [avg_rating_yes, avg_rating_no]\n",
        "})\n",
        "summary_df.to_csv(\"Online_Delivery_Analysis.csv\", index=False)\n",
        "\n",
        "print(\"\\n📁 Summary exported to: Online_Delivery_Analysis.csv\")\n"
      ],
      "metadata": {
        "colab": {
          "base_uri": "https://localhost:8080/",
          "height": 707
        },
        "id": "qTyA8o2eynZt",
        "outputId": "6b4e84be-944a-4a66-a436-3b83fa636337"
      },
      "execution_count": null,
      "outputs": [
        {
          "output_type": "stream",
          "name": "stdout",
          "text": [
            " Online Delivery Statistics:\n",
            "\n",
            " Restaurants with Online Delivery: 2451 (25.66%)\n",
            " Restaurants without Online Delivery: 7100 (74.34%)\n",
            "\n",
            " Average Ratings:\n",
            "\n",
            " With Online Delivery: 3.25\n",
            " Without Online Delivery: 2.47\n"
          ]
        },
        {
          "output_type": "display_data",
          "data": {
            "text/plain": [
              "<Figure size 800x500 with 1 Axes>"
            ],
            "image/png": "[encoded data removed]"
          },
          "metadata": {}
        },
        {
          "output_type": "stream",
          "name": "stdout",
          "text": [
            "\n",
            "📁 Summary exported to: Online_Delivery_Analysis.csv\n"
          ]
        }
      ]
    }
  ]
}